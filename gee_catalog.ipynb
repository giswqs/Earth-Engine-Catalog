{
 "cells": [
  {
   "cell_type": "code",
   "execution_count": null,
   "id": "1534d840-b668-4124-98a0-9ce7b3c62490",
   "metadata": {},
   "outputs": [],
   "source": [
    "import pandas as pd"
   ]
  },
  {
   "cell_type": "code",
   "execution_count": null,
   "id": "8c126806-18bd-4e4d-8220-4c6ce9780932",
   "metadata": {},
   "outputs": [],
   "source": [
    "url = 'https://github.com/giswqs/Earth-Engine-Catalog/raw/master/gee_catalog.tsv'\n",
    "df = pd.read_csv(url, sep='\\t')\n",
    "df.head()"
   ]
  }
 ],
 "metadata": {
  "kernelspec": {
   "display_name": "Python 3 (ipykernel)",
   "language": "python",
   "name": "python3"
  },
  "language_info": {
   "codemirror_mode": {
    "name": "ipython",
    "version": 3
   },
   "file_extension": ".py",
   "mimetype": "text/x-python",
   "name": "python",
   "nbconvert_exporter": "python",
   "pygments_lexer": "ipython3",
   "version": "3.9.15"
  }
 },
 "nbformat": 4,
 "nbformat_minor": 5
}
